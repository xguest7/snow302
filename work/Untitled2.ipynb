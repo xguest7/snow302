{
 "cells": [
  {
   "cell_type": "code",
   "execution_count": 9,
   "id": "ae3a95aa-2def-4cba-a872-00e2e0ebda34",
   "metadata": {},
   "outputs": [],
   "source": [
    "from selenium import webdriver #이것은 동적크롤링 위한 selenium 모듈 중 webdriver를 로딩\n",
    "from bs4 import BeautifulSoup\n",
    "wd=webdriver.Chrome('C:/Users/MIT_302/Downloads/python 크롤링 작업/chromedriver.exe')\n",
    "wd.get(\"https://naver.com\")\n",
    "elem1=wd.find_element_by_class_name(\"MyView-module__link_login___HpHMW\") #해당요소 찾기\n",
    "elem1.click() #클릭\n"
   ]
  },
  {
   "cell_type": "code",
   "execution_count": 12,
   "id": "e92ff640-0d53-4d20-aede-a9f84a14d770",
   "metadata": {},
   "outputs": [
    {
     "data": {
      "text/plain": [
       "'3.141.0'"
      ]
     },
     "execution_count": 12,
     "metadata": {},
     "output_type": "execute_result"
    }
   ],
   "source": [
    "import selenium\n",
    "selenium.__version__"
   ]
  }
 ],
 "metadata": {
  "kernelspec": {
   "display_name": "Python 3 (ipykernel)",
   "language": "python",
   "name": "python3"
  },
  "language_info": {
   "codemirror_mode": {
    "name": "ipython",
    "version": 3
   },
   "file_extension": ".py",
   "mimetype": "text/x-python",
   "name": "python",
   "nbconvert_exporter": "python",
   "pygments_lexer": "ipython3",
   "version": "3.11.5"
  }
 },
 "nbformat": 4,
 "nbformat_minor": 5
}
