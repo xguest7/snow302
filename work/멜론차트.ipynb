{
 "cells": [
  {
   "cell_type": "code",
   "execution_count": 11,
   "id": "9bc33a9f-349c-4f2b-949a-f54a4e7eb920",
   "metadata": {},
   "outputs": [
    {
     "name": "stdout",
     "output_type": "stream",
     "text": [
      "1 등 제목: Love wins all / 가수: 아이유\n",
      "2 등 제목: 첫 만남은 계획대로 되지 않아 / 가수: TWS (투어스)\n",
      "3 등 제목: To. X / 가수: 태연 (TAEYEON)\n",
      "4 등 제목: 비의 랩소디 / 가수: 임재현\n",
      "5 등 제목: Love 119 / 가수: RIIZE\n",
      "6 등 제목: 에피소드 / 가수: 이무진\n",
      "7 등 제목: Perfect Night / 가수: LE SSERAFIM (르세라핌)\n",
      "8 등 제목: 그대만 있다면 (여름날 우리 X 너드커넥션 (Nerd Connection)) / 가수: 너드커넥션 (Nerd Connection)\n",
      "9 등 제목: Drama / 가수: aespa\n",
      "10 등 제목: 헤어지자 말해요 / 가수: 박재정\n",
      "11 등 제목: Super Lady / 가수: (여자)아이들\n",
      "12 등 제목: Wife / 가수: (여자)아이들\n",
      "13 등 제목: 사랑은 늘 도망가 / 가수: 임영웅\n",
      "14 등 제목: 인사 / 가수: 범진\n",
      "15 등 제목: Seven (feat. Latto) - Clean Ver. / 가수: 정국\n",
      "16 등 제목: 밤양갱 / 가수: 비비 (BIBI)\n",
      "17 등 제목: I AM / 가수: IVE (아이브)\n",
      "18 등 제목: 꿈 / 가수: 태연 (TAEYEON)\n",
      "19 등 제목: MANIAC / 가수: VIVIZ (비비지)\n",
      "20 등 제목: Get A Guitar / 가수: RIIZE\n",
      "21 등 제목: 모래 알갱이 / 가수: 임영웅\n",
      "22 등 제목: 우리들의 블루스 / 가수: 임영웅\n",
      "23 등 제목: Baddie / 가수: IVE (아이브)\n",
      "24 등 제목: Love Lee / 가수: AKMU (악뮤)\n",
      "25 등 제목: 너의 모든 순간 / 가수: 성시경\n",
      "26 등 제목: Do or Die / 가수: 임영웅\n",
      "27 등 제목: 다시 만날 수 있을까 / 가수: 임영웅\n",
      "28 등 제목: You & Me / 가수: 제니 (JENNIE)\n",
      "29 등 제목: 이제 나만 믿어요 / 가수: 임영웅\n",
      "30 등 제목: 퀸카 (Queencard) / 가수: (여자)아이들\n",
      "31 등 제목: Super Shy / 가수: NewJeans\n",
      "32 등 제목: 사막에서 꽃을 피우듯 / 가수: 우디 (Woody)\n",
      "33 등 제목: Hype Boy / 가수: NewJeans\n",
      "34 등 제목: 무지개 / 가수: 임영웅\n",
      "35 등 제목: 잘 지내자, 우리 (여름날 우리 X 로이킴) / 가수: 로이킴\n",
      "36 등 제목: 예뻤어 / 가수: DAY6 (데이식스)\n",
      "37 등 제목: 후라이의 꿈 / 가수: AKMU (악뮤)\n",
      "38 등 제목: London Boy / 가수: 임영웅\n",
      "39 등 제목: Ditto / 가수: NewJeans\n",
      "40 등 제목: Polaroid / 가수: 임영웅\n",
      "41 등 제목: 아버지 / 가수: 임영웅\n",
      "42 등 제목: 사랑인가 봐 / 가수: 멜로망스\n",
      "43 등 제목: ETA / 가수: NewJeans\n",
      "44 등 제목: 인생찬가 / 가수: 임영웅\n",
      "45 등 제목: Standing Next to You / 가수: 정국\n",
      "46 등 제목: 한 페이지가 될 수 있게 / 가수: DAY6 (데이식스)\n",
      "47 등 제목: 어떻게 이별까지 사랑하겠어, 널 사랑하는 거지 / 가수: AKMU (악뮤)\n",
      "48 등 제목: 사건의 지평선 / 가수: 윤하 (YOUNHA)\n",
      "49 등 제목: A bientot / 가수: 임영웅\n",
      "50 등 제목: Spicy / 가수: aespa\n"
     ]
    }
   ],
   "source": [
    "from bs4 import BeautifulSoup as soup\n",
    "# import urllib.request 미사\n",
    "import requests\n",
    "\n",
    "hdr = {\n",
    "        'accept-language': 'ko,th;q=0.9,en-US;q=0.8,en;q=0.7,ru;q=0.6,ko-KR;q=0.5,la;q=0.4',\n",
    "        \"User-Agent\":\"Mozilla/5.0 (Windows NT 10.0; Win64; x64) AppleWebKit/537.36 (KHTML, like Gecko) Chrome/111.0.0.0 Safari/537.36\"\n",
    "    }\n",
    "\n",
    "url = \"https://www.melon.com/chart/index.htm\"\n",
    "html = requests.get(url, headers=hdr).text\n",
    "\n",
    "bs_obj = soup(html,\"html.parser\")\n",
    "\n",
    "title = bs_obj.select(\"div.ellipsis.rank01 > span > a\")\n",
    "name = bs_obj.select(\"div.ellipsis.rank02 > a\")\n",
    "i=1\n",
    "for t,n in zip(title,name) : \n",
    "    print(i,'등 제목:',t.string,'/','가수:',n.string)\n",
    "    i=i+1\n",
    "    if i==51:\n",
    "        break\n"
   ]
  },
  {
   "cell_type": "code",
   "execution_count": 12,
   "id": "0e043a30-202b-4c2f-8b91-1a3271ea20d9",
   "metadata": {},
   "outputs": [
    {
     "ename": "ModuleNotFoundError",
     "evalue": "No module named 'selenium'",
     "output_type": "error",
     "traceback": [
      "\u001b[1;31m---------------------------------------------------------------------------\u001b[0m",
      "\u001b[1;31mModuleNotFoundError\u001b[0m                       Traceback (most recent call last)",
      "Cell \u001b[1;32mIn[12], line 1\u001b[0m\n\u001b[1;32m----> 1\u001b[0m \u001b[38;5;28;01mfrom\u001b[39;00m \u001b[38;5;21;01mselenium\u001b[39;00m \u001b[38;5;28;01mimport\u001b[39;00m webdriver\n\u001b[0;32m      2\u001b[0m \u001b[38;5;28;01mfrom\u001b[39;00m \u001b[38;5;21;01mbs4\u001b[39;00m \u001b[38;5;28;01mimport\u001b[39;00m BeautifulSoup\n\u001b[0;32m      3\u001b[0m wd\u001b[38;5;241m=\u001b[39mwebdriver\u001b[38;5;241m.\u001b[39mChrome(\u001b[38;5;124m'\u001b[39m\u001b[38;5;124m./chromedriver.exe\u001b[39m\u001b[38;5;124m'\u001b[39m)\n",
      "\u001b[1;31mModuleNotFoundError\u001b[0m: No module named 'selenium'"
     ]
    }
   ],
   "source": [
    "from selenium import webdriver\n",
    "from bs4 import BeautifulSoup\n",
    "wd=webdriver.Chrome('./chromedriver.exe')"
   ]
  },
  {
   "cell_type": "code",
   "execution_count": null,
   "id": "3ba4b391-6737-4464-98fe-1fe766bae31c",
   "metadata": {},
   "outputs": [],
   "source": []
  }
 ],
 "metadata": {
  "kernelspec": {
   "display_name": "Python 3 (ipykernel)",
   "language": "python",
   "name": "python3"
  },
  "language_info": {
   "codemirror_mode": {
    "name": "ipython",
    "version": 3
   },
   "file_extension": ".py",
   "mimetype": "text/x-python",
   "name": "python",
   "nbconvert_exporter": "python",
   "pygments_lexer": "ipython3",
   "version": "3.11.5"
  }
 },
 "nbformat": 4,
 "nbformat_minor": 5
}
